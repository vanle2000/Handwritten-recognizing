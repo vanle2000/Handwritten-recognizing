{
 "cells": [
  {
   "cell_type": "markdown",
   "id": "2b4cee6a",
   "metadata": {},
   "source": [
    "# Recognizing Handwritten Digits with the k-Nearest Neighbour Classification Algorithm"
   ]
  },
  {
   "cell_type": "markdown",
   "id": "1524c711",
   "metadata": {},
   "source": [
    "## 1. Introduction:\n",
    "\n",
    "In this notebook, I will delve into the world of k-NN classification algorithm - one of the most popular and effective supervised learning techniques. Despite its simplicity, k-NN has proven to be a powerful tool for classification tasks in a variety of domains, ranging from image recognition to natural language processing.\n",
    "\n",
    "### 1.1. Purpose of Conducting\n",
    "However, implementing k-NN classifier is not a straightforward process and often poses several challenges. The most common concerns are determining the optimal value of k, selecting the appropriate distance metric, handling imbalanced datasets, and dealing with high-dimensional data. To address these challenges, I will conduct hyperparameter tuning on two key parameters: k neighbors and distance metrics. By optimizing these parameters, we may achieve better classification performance and improve the accuracy of our k-NN classifier. Moreover, we also implemented a weighted k-NN algorithm for MNIST database.\n",
    "### 1.2. Experiment Design\n",
    "One of the main challenges in k-NN is choosing the optimal number of neighbors (k) and distance metric. That's why I will conduct two experiments to find the optimal value of k and the best distance metrics for our classifier.\n",
    "* Experiment 1: Optimal k neighbors value In this experiment, I will vary the value of k and measure the accuracy of our model for each k value to determine the optimal k neighbors value.\n",
    "* Experiment 2: Distance Metrics In this experiment, we I explore three different distance metrics to calculate the distance between data points: Manhattan, Minkowski, and Cosine. I will compare the accuracy of our model for each distance metric to determine the best distance metric for our classifier.\n",
    "* Experiment 3: Implement a weighted k-NN algorithm."
   ]
  },
  {
   "cell_type": "markdown",
   "id": "356401e7",
   "metadata": {},
   "source": [
    "## 2. Data Processing:\n",
    "\n",
    "### 2.1. MNIST Database\n",
    "The MNIST database is a database of 60,000 images of handwritten digits from 0 through 9 with numerical labels. This is commonly used for training various image processing systems and testing in the field of machine learning. To the right is a sample of labeled images included in the database [5].\n",
    "![MnistExamples.png](attachment:MnistExamples.png)\n",
    "**Image source: [5]**"
   ]
  },
  {
   "cell_type": "markdown",
   "id": "39e97709",
   "metadata": {},
   "source": [
    "### 2.2. Import Libraries"
   ]
  },
  {
   "cell_type": "code",
   "execution_count": 28,
   "id": "910082d0",
   "metadata": {},
   "outputs": [],
   "source": [
    "from pathlib import Path\n",
    "import requests\n",
    "import numpy as np\n",
    "import pandas as pd\n",
    "import matplotlib.pyplot as plt\n",
    "import seaborn as sns \n",
    "from sklearn.metrics import confusion_matrix\n",
    "import gzip\n",
    "from numpy import linalg as LA"
   ]
  },
  {
   "cell_type": "markdown",
   "id": "d7b87136",
   "metadata": {},
   "source": [
    "### 2.3. Downloading MNIST Files"
   ]
  },
  {
   "cell_type": "code",
   "execution_count": 29,
   "id": "96699dde",
   "metadata": {},
   "outputs": [],
   "source": [
    "mnist_url = \"http://yann.lecun.com/exdb/mnist/\"\n",
    "img_file = \"train-images-idx3-ubyte.gz\"\n",
    "labels_file = \"train-labels-idx1-ubyte.gz\""
   ]
  },
  {
   "cell_type": "code",
   "execution_count": 30,
   "id": "6a2ca7cc",
   "metadata": {},
   "outputs": [],
   "source": [
    "def get_MNIST():\n",
    "    \"\"\"\n",
    "    This is the function for downloading MNIST files where 'images' returns images of digits and \n",
    "    'label' gives the corresponding labels of images. \n",
    "    \n",
    "    \"\"\"\n",
    "    for fname in [img_file, labels_file]:\n",
    "        if Path(fname).is_file() :\n",
    "            print(f\"Found: {fname}\")\n",
    "            continue\n",
    "        r = requests.get(mnist_url + fname)\n",
    "        with open(fname, 'wb') as foo:\n",
    "            foo.write(r.content)\n",
    "            \n",
    "    with gzip.open(img_file, 'rb') as foo:\n",
    "         f = foo.read()\n",
    "    with gzip.open(labels_file, 'rb') as foo:\n",
    "         g = foo.read()\n",
    "    images = np.array([b for b in f[16:]]).reshape(-1, 28*28)\n",
    "    labels = np.array([b for b in g[8:]])\n",
    "    \n",
    "    return images,labels"
   ]
  },
  {
   "cell_type": "markdown",
   "id": "689f5b5b",
   "metadata": {},
   "source": [
    "The images are grayscale and have a resolution of 28 x 28 pixels, resulting in a total of 784 pixels per image. Each pixel is represented by a value between 0 and 255, with higher values indicating darker shades. The dataset also includes labels for each image, indicating the true digit that the image represents."
   ]
  },
  {
   "cell_type": "code",
   "execution_count": 31,
   "id": "c50d7607",
   "metadata": {},
   "outputs": [
    {
     "name": "stdout",
     "output_type": "stream",
     "text": [
      "Found: train-images-idx3-ubyte.gz\n",
      "Found: train-labels-idx1-ubyte.gz\n"
     ]
    }
   ],
   "source": [
    "images,labels = get_MNIST()"
   ]
  },
  {
   "cell_type": "code",
   "execution_count": 32,
   "id": "df348297",
   "metadata": {},
   "outputs": [
    {
     "name": "stdout",
     "output_type": "stream",
     "text": [
      "Images shape:  (60000, 784)\n",
      "Lables shape:  (60000,)\n"
     ]
    }
   ],
   "source": [
    "print(\"Images shape: \", np.shape(images))\n",
    "print(\"Lables shape: \", np.shape(labels))"
   ]
  },
  {
   "cell_type": "markdown",
   "id": "bb230857",
   "metadata": {},
   "source": [
    "The `image` dataset has 60000 rows and 784 columns where each row represents a image of a single digit and labels is a \n",
    "1-diemnsional Numpy array which has 60000 entries each of them corresponds to the label of the digits in the images array."
   ]
  },
  {
   "cell_type": "code",
   "execution_count": 6,
   "id": "e798b19f",
   "metadata": {},
   "outputs": [
    {
     "data": {
      "image/png": "[encoded data removed]",
      "text/plain": [
       "<Figure size 648x648 with 20 Axes>"
      ]
     },
     "metadata": {
      "needs_background": "light"
     },
     "output_type": "display_data"
    }
   ],
   "source": [
    "# Display 20 images with theirs labels \n",
    "num_images=20\n",
    "\n",
    "fig, axes = plt.subplots(nrows=4, ncols=num_images//4, figsize=(9, 9))\n",
    "\n",
    "# Display num_images//nrows images per row, i is the index f current image being plotted \n",
    "for i in range(num_images):\n",
    "  # row index of current image in the subplot grid \n",
    "  i_row = i // (num_images//4)\n",
    "  # column index of current image in the subplot grid\n",
    "  i_col = i % (num_images//4)\n",
    "  ax = axes[i_row, i_col]\n",
    "  ax.imshow(images[i].reshape(28,28), cmap='gray')\n",
    "  ax.set_title(\"Label: {}\".format(labels[i]))\n",
    "  ax.axis('off')\n",
    "\n",
    "plt.tight_layout()\n",
    "plt.show()"
   ]
  },
  {
   "cell_type": "markdown",
   "id": "0ffb776b",
   "metadata": {},
   "source": [
    "## 3. Implement k-Nearest Neighbor Algorithm:"
   ]
  },
  {
   "cell_type": "markdown",
   "id": "6852fcf2",
   "metadata": {},
   "source": [
    "The k-Nearest Neighbors (KNN) algorithm is a simple yet powerful classification and regression technique in machine learning. It operates based on the assumption that similar data points tend to share similar outcomes. In a nutshell, when tasked with classifying a new data point, KNN looks at its `k` nearest neighbors in the training data and assigns the new point the class label that the majority of its neighbors possess.\n",
    "\n",
    "We can implement this algorithm as follows:\n",
    "\n",
    "1. Calculate the distance between the new data point and all existing data points in the training dataset.\n",
    "2. Select the `k` data points with the shortest distances.\n",
    "3. Determine the most frequent class label among these `k` neighbors.\n",
    "4. Assign the new data point the class label that appeared most frequently.\n",
    "\n",
    "**Advantages of KNN:** \n",
    "\n",
    "- Easy to understand and implement\n",
    "- Non-parametric: KNN doesn't make assumptions about the underlying data distribution, making it suitable for a wide range of data types and shapes of decision boundaries.\n",
    "- Adaptability: KNN can adapt to changes in data without needing to retrain the entire model, making it useful for dynamic or evolving datasets.\n",
    "- Flexibility: KNN can be used for both classification and regression tasks.\n",
    "- Interpretable: The results of KNN can be easily interpreted and visualized, aiding in understanding the decisions made by the model.\n",
    "\n",
    "**Disadvantages of KNN:**\n",
    "\n",
    "- Computational Complexity: KNN's prediction time can increase significantly as the dataset grows, since it requires calculating distances for every point in the training set.\n",
    "- Sensitive to Irrelevant Features: If the dataset has many irrelevant features, the distance calculation can be skewed, leading to poor predictions.\n",
    "- Choosing `k`: Selecting the right value for `k` is crucial. A small `k` can make the model sensitive to noise, while a large `k` may lead to oversmoothing.\n",
    "- Imbalanced Data: In datasets with imbalanced class distributions, KNN might favor the majority class due to the influence of nearby neighbors."
   ]
  },
  {
   "cell_type": "markdown",
   "id": "0a8eb88d",
   "metadata": {},
   "source": [
    "### 3.1. Distance Function"
   ]
  },
  {
   "cell_type": "markdown",
   "id": "4bbc1a44",
   "metadata": {},
   "source": [
    "To use k-NN classification method, it is necessary to measure distance between the training dataset and the selecting testing dataset. There are various ways to measure distance.\n",
    "\n",
    "\n",
    "1. **$L_p$ distance**: The $L_p$ distance between two points $\\mathbf{x}=(x_1, x_2, ..., x_n)$ and $\\mathbf{y}=(y_1, y_2, ..., y_n)$ is defined by \n",
    "      $$L_p(\\mathbf{x, y})=\\sqrt[p]{\\sum_{i=1}^{n} (x_i-y_i)^p}$$\n",
    "The $L_p$ distance is a general form of distance.\n",
    "\n",
    "2. **Manhattan distance or $L_1$ distance**: This distance is the gridwise measure in the space between two points $\\mathbf{x}=(x_1, x_2, ..., x_n)$ and $\\mathbf{y}=(y_1, y_2, ..., y_n)$ which is defined by\n",
    "$$L_1(\\mathbf{x, y})=\\sum_{i=1}^{n} |x_i-y_i|$$\n",
    "    \n",
    "3. **Euclidean distance or $L_2$ distance**:  It measures the distance between two points namely $\\mathbf{x}=(x_1, x_2, ..., x_n)$ and $\\mathbf{y}=(y_1, y_2, ..., y_n)$ in Euclidean space,  $\\mathbb{R}^n$ which is basically the length of a line segment between the two points. So,\n",
    "$$L_2(\\mathbf{x, y})=\\sqrt{\\sum_{i=1}^{n} (x_i-y_i)^2}$$\n",
    "\n",
    "\n",
    "4. **Chebyshev distance or $L_\\infty$ distance or uniform distance**: This distance is related to the uniform norm and measured by \n",
    "$$L_{\\infty}(\\mathbf{x, y})=\\max_{i=1} {|x_i-y_i|}$$\n"
   ]
  },
  {
   "cell_type": "markdown",
   "id": "7648d870",
   "metadata": {},
   "source": [
    "Here, is the code for in genral $L_p$ distance formula. In this project, we used $L_p$ distance and varies the value of $p$. "
   ]
  },
  {
   "cell_type": "code",
   "execution_count": 33,
   "id": "39d5cbd3",
   "metadata": {},
   "outputs": [],
   "source": [
    "def lp_distance(x,w):\n",
    "    \"\"\"\n",
    "    This is the fucntion for measuring $L_p$ distance formula which takes two arguments and return the distance.\n",
    "    \n",
    "    The two arguments are:\n",
    "    \n",
    "    x:\n",
    "      a 2-dimensional Numpy array \n",
    "    \n",
    "    w:\n",
    "       a 1-dimensional Numpy array \n",
    "              \n",
    "    Returns:\n",
    "    \n",
    "    distance:\n",
    "            a 1-dimensional Numpy array whose i-th entry\n",
    "            is the L_p distance between i-th row of x and w\n",
    "    \n",
    "    \"\"\"\n",
    "    distance = np.power(np.sum((np.abs(x-w))**p, axis=1), (1/p))\n",
    "    \n",
    "    return distance"
   ]
  },
  {
   "cell_type": "markdown",
   "id": "e59228d9",
   "metadata": {},
   "source": [
    "### 3.2. k-NN Classifier Model:\n",
    "\n",
    "This is the code for k-NN method by using the distance function and it will take as a argument the training dataset, labels of training dataset, a test point which label will be predicted and an integer $n$ which defines the number of nearest neighboring training data points and will give us the predicted label of the test datapoint with the number of the nearest neighbour points and the label of nearest neighbour points. "
   ]
  },
  {
   "cell_type": "code",
   "execution_count": 34,
   "id": "b2b6e33c",
   "metadata": {},
   "outputs": [],
   "source": [
    "def knn_classifier(training_data,training_label, x, n):\n",
    "    \"\"\"\n",
    "    This is the fucntion for  k-nearest neighbors (k-NN) algorithm which takes four arguments and returns a tuple.\n",
    "    \n",
    "    The four arguments are:\n",
    "    \n",
    "    training_data:\n",
    "                a 2-dimensional Numpy array in which each row is one element of the training data. \n",
    "              \n",
    "    training_label: \n",
    "                a 1-dimensional Numpy array with labels of the training data: the k-th element of this array \n",
    "                is the label corresponding to the k-th row of training_data. \n",
    "                \n",
    "        x:  \n",
    "            a 1-dimensional Numpy array with a data point we want to classify. \n",
    "            \n",
    "        n: \n",
    "            an integer specifying the number of neighbors to use for the classification.\n",
    "        \n",
    "   Returns:\n",
    "   \n",
    "   label:  \n",
    "         the predicted label of the point x \n",
    "         \n",
    "   neighbour: \n",
    "          a list of rows numbers of training_data which are the n nearest neighbours of x.\n",
    "          \n",
    "   nearest_neighbour_label:\n",
    "          a list of rows numbers of label of training_data which are the n nearest neighbours of x\n",
    "        \n",
    "            \n",
    "    \"\"\"\n",
    "    \n",
    "    # Calcualte the distance between the test data and training data\n",
    "    distance = lp_distance(x,training_data) \n",
    "    # Order the index of distance\n",
    "    nearest_neighbour = distance.argsort()[:n] \n",
    "    # Select n neartest neighbour data from test data \n",
    "    nearest_neighbour_data = training_data[nearest_neighbour[0:n]] \n",
    "    # Label of n neartest neighbour data\n",
    "    nearest_neighbour_label = training_label[nearest_neighbour[0:n]] \n",
    "    # Label which occurs maximum time\n",
    "    label = np.bincount(nearest_neighbour_label).argmax() \n",
    "\n",
    "    return nearest_neighbour, label, nearest_neighbour_label"
   ]
  },
  {
   "cell_type": "markdown",
   "id": "bfbbb055",
   "metadata": {},
   "source": [
    "### 3.3. Model Implementation:\n",
    "Now, we implement the KNN classifier for the given dataset"
   ]
  },
  {
   "cell_type": "markdown",
   "id": "e2307f42",
   "metadata": {},
   "source": [
    "**1. Data splitting**: \n",
    "\n",
    "\n",
    "For model implementation we need to spllit the dataset into training and test dataset. Among 60,000 images randomly choose 20000 images as training data and 10000 images as testing data. And for implementing the model, we use $L_2$ distance that means $p=2$. At first, the images shuffled randomly then 1st 20000  data points seleceted as training dataset with the corresponding labels and then 10000 data points seleceted as test dataset. "
   ]
  },
  {
   "cell_type": "code",
   "execution_count": 35,
   "id": "6c9312db",
   "metadata": {},
   "outputs": [],
   "source": [
    "# Randomly ordered index\n",
    "rng = np.random.default_rng(200) \n",
    "reorder = rng.permutation(len(images))\n",
    "# Shuffling images\n",
    "images = images[reorder] \n",
    "# Shuffling labels\n",
    "labels = labels[reorder] "
   ]
  },
  {
   "cell_type": "code",
   "execution_count": 36,
   "id": "10ce1ec8",
   "metadata": {},
   "outputs": [],
   "source": [
    "training_data = 20000\n",
    "testing_data = 10000\n",
    "\n",
    "# Select training images\n",
    "training_images = images[:training_data] \n",
    "# Select training images labels \n",
    "training_labels = labels[:training_data] \n",
    "# Select test images \n",
    "test_images = images[training_data:training_data+testing_data] \n",
    "# Select test images label \n",
    "test_labels = labels[training_data:training_data+testing_data] "
   ]
  },
  {
   "cell_type": "code",
   "execution_count": 37,
   "id": "2bfc302e",
   "metadata": {},
   "outputs": [
    {
     "data": {
      "text/plain": [
       "((20000, 784), (20000,), (10000, 784), (10000,))"
      ]
     },
     "execution_count": 37,
     "metadata": {},
     "output_type": "execute_result"
    }
   ],
   "source": [
    "training_images.shape, training_labels.shape, test_images.shape, test_labels.shape"
   ]
  },
  {
   "cell_type": "markdown",
   "id": "956443aa",
   "metadata": {},
   "source": [
    "**2. Predict the label of test data:**\n",
    "\n",
    "\n",
    "Now apply the model to predict the label of test data. Initially for $n=5$, the model gives us the label of the test point with these five neighbours.  "
   ]
  },
  {
   "cell_type": "code",
   "execution_count": 12,
   "id": "aef5e721",
   "metadata": {},
   "outputs": [
    {
     "name": "stdout",
     "output_type": "stream",
     "text": [
      "Predicted label for the test data is: 7\n",
      "The five nearest neighbors are: [ 8081  5082  3929 11685  2666]\n",
      "The labels of five nearest neighbors are: [7 7 7 7 7]\n"
     ]
    }
   ],
   "source": [
    "test_number=1999\n",
    "p=2\n",
    "nearest_neighbour, label, nearest_neighbour_label  = knn_classifier(training_images, \n",
    "                                                                     training_labels, \n",
    "                                                                     test_images[test_number], \n",
    "                                                                     n=5)\n",
    "    \n",
    "print(\"Predicted label for the test data is:\", label)\n",
    "print(\"The five nearest neighbors are:\", nearest_neighbour)\n",
    "print(\"The labels of five nearest neighbors are:\", nearest_neighbour_label)"
   ]
  },
  {
   "cell_type": "markdown",
   "id": "8e4b17c2",
   "metadata": {},
   "source": [
    "We see that the label of the test data and three nearest neighbour is same i.e 3. To check that the prediction iss correct, let find the actual label of the test image."
   ]
  },
  {
   "cell_type": "code",
   "execution_count": 13,
   "id": "de6d7338",
   "metadata": {},
   "outputs": [
    {
     "data": {
      "image/png": "[encoded data removed]",
      "text/plain": [
       "<Figure size 432x288 with 1 Axes>"
      ]
     },
     "metadata": {
      "needs_background": "light"
     },
     "output_type": "display_data"
    }
   ],
   "source": [
    "plt.imshow(test_images[test_number].reshape(28,28),cmap=\"Greys\")\n",
    "plt.title(test_labels[test_number])\n",
    "plt.xticks(fontsize=12)\n",
    "plt.yticks(fontsize=12)\n",
    "plt.show()"
   ]
  },
  {
   "cell_type": "markdown",
   "id": "c00bf971",
   "metadata": {},
   "source": [
    "The predicted label is similar to actual label. So the prediction is correct. So far we could find the class of a single data point. \n",
    "This function is defined only for predicting the class of a single input data point. For the prediction of a whole data set later we use this function in another function. Now we define some function to get the class of a full data set and accuracy measurement."
   ]
  },
  {
   "cell_type": "markdown",
   "id": "912e221d",
   "metadata": {},
   "source": [
    "**3. Accuracy of prediction:**\n",
    "\n",
    "Our k-NN model can predict the result for only a single data point. For calculating the accuracy percentage we need a number of test data points and their predicted class by the knn_classifier function.  Now we define a function which will take a set of test images without labels and will assign labels to them by using the knn_classifier function. This function also gives the nearest k-neighbors for each test point."
   ]
  },
  {
   "cell_type": "code",
   "execution_count": 38,
   "id": "2409bd70",
   "metadata": {},
   "outputs": [],
   "source": [
    "def getting_actual_labels(training_set, train_labels, test_set, n, method=knn_classifier):\n",
    "    \"\"\"\n",
    "    This is the function for k-nearest neighbors (KNN)  model for a set of test data which takes five arguments \n",
    "    and returns a tuple.\n",
    "    \n",
    "    The five arguments are:\n",
    "        training_set:\n",
    "                    a 2-dimensional Numpy array whose every row represents a training data set.\n",
    "        train_labels:\n",
    "                     a 1-dimensional Numpy array whose entries represent labels of the training data.\n",
    "        test_set: \n",
    "                a 2-dimensional Numpy array whose each row represents a test data point.\n",
    "        n : \n",
    "            an integer specifying the number of neighbors to use for the classification.\n",
    "        method:\n",
    "              we used knn_classifier method for this function.\n",
    "            \n",
    "   \n",
    "   Returns:\n",
    "        predicted_labels:\n",
    "                       a list of labels for the test dataset.\n",
    "        k_neighbors:\n",
    "                   a list of lists whose each list represets the row number of for the corresonding \n",
    "                    test data point.\n",
    "    \"\"\"\n",
    "    # Empty list for the predicted labels\n",
    "    predicted_labels = [] \n",
    "    # Empty list for k-nearest neighbors\n",
    "    k_neighbors = [] \n",
    "    \n",
    "    for x in range(len(test_set)):\n",
    "        result = method(training_set, train_labels, test_set[x], n) \n",
    "        predicted_labels.append(result[0])\n",
    "        k_neighbors.append(result[1])\n",
    "        \n",
    "    return predicted_labels, k_neighbors"
   ]
  },
  {
   "cell_type": "code",
   "execution_count": 39,
   "id": "c452777b",
   "metadata": {},
   "outputs": [],
   "source": [
    "def percentage_accuracy(actual_labels, predicted_labels):\n",
    "    \"\"\"\n",
    "    This is the funcition for finding the percentage fraction of test dataset predicted correctly \n",
    "    which has two argumanets and returns the accuracy.\n",
    "    \n",
    "    \n",
    "    The two arguments are:\n",
    "        actual_labels:\n",
    "                     a 1-dimensional Numpy array whose each entry is a actual label of the test dataset.\n",
    "        predicted_labels: \n",
    "                     a 1-dimensional Numpy array whose each entry is predicted label by knn_classifier.\n",
    "        \n",
    "    Returns:\n",
    "        accuracy: \n",
    "                a real number percentage of the predicted labels which are correctely predicted.\n",
    "    \"\"\"\n",
    "    \n",
    "    accuracy = sum(predicted_labels==actual_labels)/len(actual_labels)*100\n",
    "    \n",
    "    return accuracy"
   ]
  },
  {
   "cell_type": "code",
   "execution_count": 16,
   "id": "c7aa2d3d",
   "metadata": {},
   "outputs": [
    {
     "name": "stdout",
     "output_type": "stream",
     "text": [
      "The accuracy of the k-NN classifier model for three nearest neighbours and L2 distance is  95.77 percent.\n"
     ]
    }
   ],
   "source": [
    "#predict the label of set of data points\n",
    "k_neighbors, predicted_labels = getting_actual_labels(training_set=training_images,\n",
    "                                                      train_labels=training_labels,\n",
    "                                                      test_set=test_images, n=5, \n",
    "                                                      method=knn_classifier) \n",
    "\n",
    "percentage_accuracy(actual_labels=test_labels, predicted_labels=predicted_labels) \n",
    "\n",
    "accuracy = percentage_accuracy(actual_labels=test_labels, predicted_labels=predicted_labels)\n",
    "print(\"The accuracy of the k-NN classifier model for three nearest neighbours and L2 distance is \", accuracy, \"percent.\")"
   ]
  },
  {
   "cell_type": "markdown",
   "id": "1fb853c4",
   "metadata": {},
   "source": [
    "**4. Confusion Matrix to visualize classification accuracy:**"
   ]
  },
  {
   "cell_type": "code",
   "execution_count": 17,
   "id": "7032d35c",
   "metadata": {},
   "outputs": [
    {
     "name": "stdout",
     "output_type": "stream",
     "text": [
      "Confusion matrix: \n",
      " [[ 969    1    6    4    1    4    5    1    3    3]\n",
      " [   0 1107   15    7    9    3    3   15   25    4]\n",
      " [   2    2  934    7    0    0    0    2    6    1]\n",
      " [   0    1    3  971    0   15    0    1   25    9]\n",
      " [   2    0    1    1  900    2    0    2    2   15]\n",
      " [   1    0    1   13    0  836    8    1   18    3]\n",
      " [   3    1    2    1    3    6  951    0    8    1]\n",
      " [   0    2   17    8    5    0    0 1037    1   18]\n",
      " [   0    0    1    4    0    2    2    0  869    4]\n",
      " [   0    1    1    9   28    5    1   15   21 1003]]\n"
     ]
    }
   ],
   "source": [
    "c=np.zeros((10,10), dtype=int)\n",
    "for i in range(len(test_labels)):\n",
    "    c[predicted_labels[i], test_labels[i]]+=1\n",
    "print(f\"Confusion matrix: \\n {c}\")"
   ]
  },
  {
   "cell_type": "code",
   "execution_count": 18,
   "id": "526cb1da",
   "metadata": {},
   "outputs": [
    {
     "data": {
      "image/png": "[encoded data removed]",
      "text/plain": [
       "<Figure size 864x864 with 2 Axes>"
      ]
     },
     "metadata": {
      "needs_background": "light"
     },
     "output_type": "display_data"
    }
   ],
   "source": [
    "plt.figure(figsize=(12, 12))\n",
    "value_counts = [\"{0:0.0f}\".format(value) for value in\n",
    "                c.flatten()]\n",
    "percentages = [\"{0:.2%}\".format(per) for per in\n",
    "                     (c/np.sum(c, axis=1)).flatten()]\n",
    "cell_labels = [f\"{val}\\n{per}\" for val, per in\n",
    "          zip(value_counts, percentages)]\n",
    "cell_labels = np.asarray(cell_labels).reshape(10,10)\n",
    "sns.heatmap(c, \n",
    "            annot=True,\n",
    "            annot_kws = {\"fontsize\": 16},\n",
    "            cbar=True,\n",
    "            linewidth=2,\n",
    "            square=True,\n",
    "            cmap=\"Blues_r\"\n",
    "           )\n",
    "plt.xlabel(\"Predictions\")\n",
    "plt.ylabel(\"Actual labels\")\n",
    "plt.show()"
   ]
  },
  {
   "cell_type": "markdown",
   "id": "fc34d2b5",
   "metadata": {},
   "source": [
    "**5. Classification with perfect certainty:**"
   ]
  },
  {
   "cell_type": "code",
   "execution_count": 19,
   "id": "7987f876",
   "metadata": {},
   "outputs": [
    {
     "name": "stdout",
     "output_type": "stream",
     "text": [
      "The fraction of images classified correctly with perfect certainty 0.8562\n"
     ]
    }
   ],
   "source": [
    "predicted_labels_array = np.array(predicted_labels).reshape(len(predicted_labels), -1)\n",
    "\n",
    "# k closest neighbors labels \n",
    "k_neighbors_labels = training_labels[k_neighbors]\n",
    "\n",
    "# Calculating the number of test point whose predicted labels match with all the k closest neighbors\n",
    "perfect_ceratinty_1 = np.sum(np.sum(k_neighbors_labels==predicted_labels_array, axis=1)==5) \n",
    "perfect_ceratinty = perfect_ceratinty_1/len(predicted_labels)\n",
    "\n",
    "print(\"The fraction of images classified correctly with perfect certainty\", perfect_ceratinty)"
   ]
  },
  {
   "cell_type": "markdown",
   "id": "b7abbef8",
   "metadata": {},
   "source": [
    "The above result shows that almost 85% images were classififed with perfect certainity. That is in these the mehod had not tie sitution to predict the class because all the neigbors were in favor of the test data. "
   ]
  },
  {
   "cell_type": "markdown",
   "id": "3637a5d8",
   "metadata": {},
   "source": [
    "## 4. Comparison:\n",
    "\n",
    "In this section, we run our k-NN classifier model to get the percentage accuracy vs varying different parameters like different size of training data, different types of distance, varying the neighbour size. "
   ]
  },
  {
   "cell_type": "markdown",
   "id": "e7aa8b9a",
   "metadata": {},
   "source": [
    "### 4.1. Accuracy versue size of the training set:\n",
    "\n",
    "Here we check how the accuracy percentage of recognizing the digits in the test data set varies depending on the size of test data sets. For this, we create a list of training dataset of different size then for each data set we apply our k-NN model. We completed this work for $L_2$ distance and three neighbours."
   ]
  },
  {
   "cell_type": "code",
   "execution_count": 20,
   "id": "30402377",
   "metadata": {},
   "outputs": [],
   "source": [
    "train_set_size = list(range(10000, 60000, 5000))\n",
    "# Creating empty list for percentage accuracy of the training set\n",
    "percentage_accuracy_ts = []  \n",
    "\n",
    "for training_data in train_set_size:\n",
    "    testing_data = 10000\n",
    "    # Select training images\n",
    "    training_images = images[:training_data] \n",
    "    # Select training image labels\n",
    "    training_labels = labels[:training_data] \n",
    "    # Select test images \n",
    "    test_images = images[training_data: training_data+testing_data] \n",
    "    # Select test images label\n",
    "    test_labels = labels[training_data: training_data+testing_data] \n",
    "    \n",
    "    _,predicted_labels = getting_actual_labels(training_set=training_images,\n",
    "                                               train_labels=training_labels,\n",
    "                                               test_set=test_images, \n",
    "                                               n=5, \n",
    "                                               method=knn_classifier)\n",
    "    \n",
    "    percentage_accuracy_ts.append(percentage_accuracy(actual_labels=test_labels,\n",
    "                                                  predicted_labels=predicted_labels))"
   ]
  },
  {
   "cell_type": "code",
   "execution_count": 21,
   "id": "d73e7ede",
   "metadata": {},
   "outputs": [
    {
     "data": {
      "image/png": "[encoded data removed]",
      "text/plain": [
       "<Figure size 576x432 with 1 Axes>"
      ]
     },
     "metadata": {},
     "output_type": "display_data"
    }
   ],
   "source": [
    "max_accuracy_ts = round(max(percentage_accuracy_ts),2)\n",
    "size_max_accuracy = train_set_size[percentage_accuracy_ts.index(max(percentage_accuracy_ts))]\n",
    "plt.style.use('seaborn')\n",
    "plt.figure(figsize=(8,6))\n",
    "plt.plot(train_set_size, percentage_accuracy_ts, '-')\n",
    "plt.plot(size_max_accuracy, max_accuracy_ts,'o')\n",
    "plt.xlabel('Size of training sets', fontsize=12)\n",
    "plt.ylabel('Accuracy percentage', fontsize=12)\n",
    "plt.title(\"Accuracy  vs size of training sets.\", fontsize=20)\n",
    "plt.text(size_max_accuracy, max_accuracy_ts,(size_max_accuracy, max_accuracy_ts), fontsize=10)\n",
    "plt.xticks(fontsize=12)\n",
    "plt.yticks(fontsize=12)\n",
    "plt.show()"
   ]
  },
  {
   "cell_type": "markdown",
   "id": "dfa545c6",
   "metadata": {},
   "source": [
    "### 4.2. Accuracy versue the number of neighbors:\n",
    "\n",
    "\n",
    "Now  check the change of  accuracy percentage of recognizing the digits when we vary the size of nearest neighbours. So, first we create a list of number of nearest neighbours dataset and then for each data set we apply our k-NN model. We completed this work like as before for $L_2$ distance."
   ]
  },
  {
   "cell_type": "code",
   "execution_count": 19,
   "id": "57612315",
   "metadata": {},
   "outputs": [],
   "source": [
    "# Varying the number of nearest neighbours \n",
    "number_of_neighbours = list(range(1,100)) \n",
    "percent_accuracy = []\n",
    "\n",
    "for n in number_of_neighbours:\n",
    "     _, predicted_labels = getting_actual_labels(training_set=training_images,\n",
    "                                                train_labels=training_labels,\n",
    "                                                test_set=test_images,\n",
    "                                                n=n, \n",
    "                                                method=knn_classifier)\n",
    "    \n",
    "     percent_accuracy.append(percentage_accuracy(actual_labels=test_labels, predicted_labels=predicted_labels))"
   ]
  },
  {
   "cell_type": "code",
   "execution_count": 20,
   "id": "79f7c4d5",
   "metadata": {},
   "outputs": [
    {
     "data": {
      "image/png": "[encoded data removed]",
      "text/plain": [
       "<Figure size 576x432 with 1 Axes>"
      ]
     },
     "metadata": {},
     "output_type": "display_data"
    }
   ],
   "source": [
    "max_accuracy = max(percent_accuracy)\n",
    "p_val_max_accuracy = number_of_neighbours[percent_accuracy.index(max(percent_accuracy))]\n",
    "plt.style.use('seaborn')\n",
    "plt.figure(figsize=(8,6))\n",
    "plt.plot(number_of_neighbours, percent_accuracy, '-')\n",
    "plt.plot(p_val_max_accuracy, max_accuracy,'o')\n",
    "plt.xlabel('Number of neighbors, $n$', fontsize=12)\n",
    "plt.ylabel('Accuracy percentage', fontsize=12)\n",
    "plt.title(\"Accuracy  vs the number of neighbours.\", fontsize=20)\n",
    "plt.text(p_val_max_accuracy, max_accuracy,(p_val_max_accuracy, max_accuracy), fontsize=10)\n",
    "plt.xticks(fontsize=12)\n",
    "plt.yticks(fontsize=12)\n",
    "plt.show()"
   ]
  },
  {
   "cell_type": "markdown",
   "id": "7fe471b2",
   "metadata": {},
   "source": [
    "From the figure it is noticable that we get the maximum accuracy for one nearest neighbours and it is 96.2 percent and then it decreases. "
   ]
  },
  {
   "cell_type": "markdown",
   "id": "47443532",
   "metadata": {},
   "source": [
    "### 4.3. Accuracy versue Distance:\n",
    "\n",
    "\n",
    "So, it's the time to vary $L_p$ distance, for different value of $p$ and we vary $p$ from $0$ to $10$ and check how the percentage accuracy varies with $L_p$ distance. "
   ]
  },
  {
   "cell_type": "code",
   "execution_count": null,
   "id": "3cda3531",
   "metadata": {},
   "outputs": [
    {
     "name": "stderr",
     "output_type": "stream",
     "text": [
      "/var/folders/nv/g99lnjz16bb71bhj2kx_xw4r0000gn/T/ipykernel_6302/2302665468.py:20: RuntimeWarning: invalid value encountered in power\n",
      "  distance = np.power(np.sum((np.abs(x-w))**p, axis=1), (1/p))\n"
     ]
    }
   ],
   "source": [
    "# Vary the value of p\n",
    "norm_list = list(range(1,100)) \n",
    "percent_accuracy_lp = []\n",
    "for p in norm_list:\n",
    "    _,predicted_labels = getting_actual_labels(training_set=training_images,\n",
    "                                               train_labels=training_labels,\n",
    "                                               test_set=test_images, \n",
    "                                               n=5, \n",
    "                                               method=knn_classifier)\n",
    "    \n",
    "    percent_accuracy_lp.append(percentage_accuracy(actual_labels=test_labels, predicted_labels=predicted_labels))"
   ]
  },
  {
   "cell_type": "code",
   "execution_count": null,
   "id": "6c37029f",
   "metadata": {},
   "outputs": [],
   "source": [
    "percent_accuracy_lp = list(np.load(\"percent_accuracy_lp.npy\"))\n",
    "max_accuracy_lp = max(percent_accuracy_lp)\n",
    "p_val_max_accuracy_lp = norm_list[percent_accuracy_lp.index(max(percent_accuracy_lp))]\n",
    "plt.style.use('seaborn')\n",
    "plt.figure(figsize=(8,6))\n",
    "plt.plot(norm_list, percent_accuracy_lp, '-')\n",
    "plt.plot(p_val_max_accuracy_lp, max_accuracy_lp,'o')\n",
    "plt.xlabel(' $p$ values in L_p norm', fontsize=12)\n",
    "plt.ylabel('Accuracy percentage', fontsize=12)\n",
    "plt.title(\"Accuracy  vs distance\", fontsize=20)\n",
    "plt.text(p_val_max_accuracy_lp,max_accuracy_lp,(p_val_max_accuracy_lp, max_accuracy_lp), fontsize=10)\n",
    "plt.xticks(fontsize=12)\n",
    "plt.yticks(fontsize=12)\n",
    "plt.show()"
   ]
  },
  {
   "cell_type": "markdown",
   "id": "c25231b5",
   "metadata": {},
   "source": [
    "So from the figure, we see that, the accuracy is alsmost same for $L_1$ to $L_7$ norm, we get the maximum accuracy for $L_7$ norm which is 96.63% then the accuracy decreases.  "
   ]
  },
  {
   "cell_type": "markdown",
   "id": "84c7a6c2",
   "metadata": {},
   "source": [
    "## 5. Weighted k-NN Method:"
   ]
  },
  {
   "cell_type": "markdown",
   "id": "7ed41ed9",
   "metadata": {},
   "source": [
    "### 5.1. Weighted k-NN algorithm:\n",
    "\n",
    "**Weighted k-NN method Algorithm [3]:** \n",
    "\n",
    "* Start with training data point say $x$\n",
    "* Consider a new test data point say $y$\n",
    "* Compute distance between $x$ and $y$ namely $d(x,y)$ and then $k$ closest neighbors are selected.\n",
    "* The weight for $i$th nearest neighbour is defined as $$W_i=\\frac{1}{d(x_i, y)}$$ \n",
    "* The label for $y$ is assigned as $$y^*=arg\\, \\max_{C} \\sum_{(x_i,y_i)\\in D'} W_i \\delta(C=y_i')$$ where \n",
    "* $C$ set of classes,\n",
    "\n",
    "* $D'$ is the set of all nearest neigbours with labels,\n",
    "\n",
    "* $y_i'$ is the class label for the $i$th nearest neighbour,\n",
    "\n",
    "* $\\delta (.)$ is the Dirac-Delta function that takes the value 1 if its argumentis true and 0 otherwise. \n",
    "\n",
    "\n",
    "Here is the code for weighted k-NN method by using the distance function and it will take as a argument the training dataset, labels of training dataset, a test point which label will be predicted and an integer $n$ which defines the number of nearest neighboring training data points and will give us the predicted label of the test datapoint with the number of the nearest neighbour points and the label of nearest neighbour points. "
   ]
  },
  {
   "cell_type": "code",
   "execution_count": 40,
   "id": "b5829170",
   "metadata": {},
   "outputs": [],
   "source": [
    "def weighted_knn(training_data, training_label, x, n):\n",
    "    \"\"\"\n",
    "    This is the fucntion for  the weighted k-nearest neighbors (KNN) algorithm \n",
    "    which takes four arguments and returns a tuple.\n",
    "    \n",
    "    The four arguments are:\n",
    "    training_data:\n",
    "                a 2-dimensional Numpy array in which each row is one element of the training data. \n",
    "              \n",
    "    training_label: \n",
    "                a 1-dimensional Numpy array with labels of the training data: the k-th element of this array \n",
    "                is the label corresponding to the k-th row of training_data. \n",
    "                \n",
    "        x:  \n",
    "            a 1-dimensional Numpy array with a data point we want to classify. \n",
    "            \n",
    "        n: \n",
    "            an integer specifying the number of neighbors to use for the classification.\n",
    "        \n",
    "   Returns:\n",
    "   \n",
    "   label:  \n",
    "         the predicted label of the point x \n",
    "         \n",
    "   nearest_neighbour: \n",
    "          a list of rows numbers of training_data which are the n nearest neighbours of x.\n",
    "          \n",
    "   nearest_neighbour_label:\n",
    "          a list of rows numbers of label of training_data which are the n nearest neighbours of x\n",
    "            \n",
    "    \"\"\"\n",
    "    \n",
    "    # Calcualte the distance between the test data and training data\n",
    "    distance = lp_distance(x, training_data) \n",
    "    # Order the index of distance\n",
    "    nearest_neighbour = distance.argsort()[:n] \n",
    "    # Select n neartest neighbour data from test data \n",
    "    nearest_neighbour_data = training_data[nearest_neighbour[0:n]] \n",
    "    # Label of n neartest neighbour data\n",
    "    nearest_neighbour_label = training_label[nearest_neighbour[0:n]] \n",
    "    # Calculate the weighted distance\n",
    "    w_distance = 1/(distance[nearest_neighbour[0:n]]) \n",
    "    # Calculate the class wise summation\n",
    "    class_sum = np.zeros(10) \n",
    "    # Sums up the weighted distances for each class label based on the nearest neighbor labels\n",
    "    np.add.at(class_sum, nearest_neighbour_label, w_distance)\n",
    "    # Label which occurs maximum summation time\n",
    "    label = np.argmax(class_sum) \n",
    "    # List n nearest neighbour\n",
    "    neighbors = list(nearest_neighbour_label[0:n]) \n",
    "    \n",
    "    return label, nearest_neighbour, nearest_neighbour_label \n"
   ]
  },
  {
   "cell_type": "markdown",
   "id": "849eacb7",
   "metadata": {},
   "source": [
    "### 5.2. Implementation of Weighted k-NN method:\n",
    "\n",
    "\n",
    "Now we implement the weighted k-NN model for the given datset with the same procedure as we did for k-NN method. And take same size of training data and testing data and $L_2$ distance.   "
   ]
  },
  {
   "cell_type": "code",
   "execution_count": 41,
   "id": "e73cc333",
   "metadata": {},
   "outputs": [],
   "source": [
    "training_data=20000\n",
    "testing_data=10000\n",
    "\n",
    "training_images = images[:training_data]\n",
    "training_labels = labels[:training_data]\n",
    "test_images = images[training_data: training_data+testing_data]\n",
    "test_labels = labels[training_data: training_data+testing_data]"
   ]
  },
  {
   "cell_type": "code",
   "execution_count": 42,
   "id": "692009ac",
   "metadata": {},
   "outputs": [
    {
     "name": "stdout",
     "output_type": "stream",
     "text": [
      "The prediction label for the test data is 3\n",
      "The three nearest neighbours with $L_2$ distance are [2570 8220 4432 6583  162]\n",
      "The label of the three nearest neighbours with $L_2$ distance are [3 3 3 3 3]\n"
     ]
    }
   ],
   "source": [
    "test_number=1000\n",
    "p=2\n",
    "label, nearest_neighbour, nearest_neighbour_label = weighted_knn(training_images, \n",
    "                                                                 training_labels, \n",
    "                                                                 test_images[test_number], \n",
    "                                                                 n=5)\n",
    "print(\"The prediction label for the test data is\",  label) \n",
    "print(\"The three nearest neighbours with $L_2$ distance are\",nearest_neighbour)\n",
    "print(\"The label of the three nearest neighbours with $L_2$ distance are\",nearest_neighbour_label)\n"
   ]
  },
  {
   "cell_type": "markdown",
   "id": "e31a44a9",
   "metadata": {},
   "source": [
    "We see that the label of the test data and three nearest neighbour is same i.e 3. To check that the prediction iss correct, let find the actual label of the test image."
   ]
  },
  {
   "cell_type": "code",
   "execution_count": 43,
   "id": "300d1020",
   "metadata": {},
   "outputs": [
    {
     "data": {
      "image/png": "[encoded data removed]",
      "text/plain": [
       "<Figure size 432x288 with 1 Axes>"
      ]
     },
     "metadata": {
      "needs_background": "light"
     },
     "output_type": "display_data"
    }
   ],
   "source": [
    "plt.imshow(test_images[test_number].reshape(28,28),cmap=\"Greys\")\n",
    "plt.title(test_labels[test_number])\n",
    "plt.xticks(fontsize=12)\n",
    "plt.yticks(fontsize=12)\n",
    "plt.show()"
   ]
  },
  {
   "cell_type": "markdown",
   "id": "154187ce",
   "metadata": {},
   "source": [
    "The predicted label is similar to actual label. So the prediction is correct. So far we could find the class of a single data point. "
   ]
  },
  {
   "cell_type": "markdown",
   "id": "da6aa71a",
   "metadata": {},
   "source": [
    "For more understanding, we need to find the percentage accuracy of the prediction on the test set. "
   ]
  },
  {
   "cell_type": "markdown",
   "id": "58cdac30",
   "metadata": {},
   "source": [
    "### 5.3. Accuracy with weighted k-NN: "
   ]
  },
  {
   "cell_type": "code",
   "execution_count": 24,
   "id": "db24da67",
   "metadata": {},
   "outputs": [],
   "source": [
    "predicted_labels_w, k_neighbors_w = getting_actual_labels(training_set=training_images,\n",
    "                                                          train_labels=training_labels,\n",
    "                                                          test_set=test_images, \n",
    "                                                          n=5, \n",
    "                                                          method=weighted_knn)"
   ]
  },
  {
   "cell_type": "code",
   "execution_count": 25,
   "id": "7c45a18f",
   "metadata": {},
   "outputs": [
    {
     "name": "stdout",
     "output_type": "stream",
     "text": [
      "The accuracy of the weighted k-NN classifier model for three nearest neighbours and L2 distance is  95.96000000000001 percent.\n"
     ]
    }
   ],
   "source": [
    "accuracy = percentage_accuracy(actual_labels=test_labels, predicted_labels=predicted_labels_w)\n",
    "print(\"The accuracy of the weighted k-NN classifier model for three nearest neighbours and L2 distance is \", accuracy, \"percent.\")"
   ]
  },
  {
   "cell_type": "markdown",
   "id": "cde652e1",
   "metadata": {},
   "source": [
    "So, the percentage accuracy 95.96% shows that the weighted  k−NN gives better accuracy than the  𝑘−NN on the same test set. "
   ]
  },
  {
   "cell_type": "markdown",
   "id": "038e76fd",
   "metadata": {},
   "source": [
    "### 5.4. Accuracy versue the number of neighbours with weighted k-NN "
   ]
  },
  {
   "cell_type": "markdown",
   "id": "e9ba064d",
   "metadata": {},
   "source": [
    "Now  check the change of  accuracy percentage of recognizing the digits when we vary the size of nearest neighbours like as we did this before for k-NN model by using $L_2$ distance."
   ]
  },
  {
   "cell_type": "code",
   "execution_count": null,
   "id": "e267bb43",
   "metadata": {},
   "outputs": [],
   "source": [
    "number_of_neighbours_w = list(range(1,100))\n",
    "percent_accuracy_w = []\n",
    "\n",
    "for n in number_of_neighbours_w:\n",
    "     predicted_labels,_ = getting_actual_labels(training_set=training_images,\n",
    "                                                train_labels=training_labels,\n",
    "                                                test_set=test_images, \n",
    "                                                n=n, \n",
    "                                                method=weighted_knn)\n",
    "    \n",
    "     percent_accuracy_w.append(percentage_accuracy(actual_labels=test_labels, predicted_labels=predicted_labels))"
   ]
  },
  {
   "cell_type": "code",
   "execution_count": null,
   "id": "9c5a7a9b",
   "metadata": {},
   "outputs": [],
   "source": [
    "max_accuracy = max(percent_accuracy_w)\n",
    "p_val_max_accuracy = number_of_neighbours[percent_accuracy_w.index(max(percent_accuracy_w))]\n",
    "plt.style.use('seaborn')\n",
    "plt.figure(figsize=(8,6))\n",
    "plt.plot(number_of_neighbours_w, percent_accuracy_w, '-')\n",
    "plt.plot(p_val_max_accuracy, max_accuracy,'o')\n",
    "plt.xlabel('Number of neighbors, $n$', fontsize=12)\n",
    "plt.ylabel('Accuracy percentage', fontsize=12)\n",
    "plt.title('Accuracy  vs the number of neighbours', fontsize=20)\n",
    "plt.text(p_val_max_accuracy,max_accuracy,(p_val_max_accuracy, max_accuracy), fontsize=10)\n",
    "plt.xticks(fontsize=12)\n",
    "plt.yticks(fontsize=12)\n",
    "plt.show()"
   ]
  },
  {
   "cell_type": "markdown",
   "id": "8b545d49",
   "metadata": {},
   "source": [
    "So, the weighted k-NN gives 96.34% percent accuracy which is better than the accuracy given by k-NN. So weighted k-NN gives better result. "
   ]
  },
  {
   "cell_type": "markdown",
   "id": "160bfbb6",
   "metadata": {},
   "source": [
    "## 6. Conclusion:\n",
    "\n",
    "\n",
    "In this project work, we used k-NN method for recognizing handwritting digits for MNIST dataset. For eavaluating the performance of our model that means how the model predicts the label of of digits, we checked the percentage accuarcy and see a very good accuarcy. Definitely there are  some error in the pridiction which is very natural and it occurs for different reasons. We measured the percentage of images classified correctly with perfect certainity. Also, we checked the percentage accuracy for differnt size of training dataset, nearest neighbour and measuring differnt $L_p$ distance. And we see that, we get the highest accuaracy when the training size is 55000, number of nearest neughbours, $n=1$ and for $L_7$ distance. We also implemented weighted k-NN model for the same dataset. The weighted k-NN gives the better accuracy than the k-NN model."
   ]
  },
  {
   "cell_type": "markdown",
   "id": "20f955f0",
   "metadata": {},
   "source": [
    "## 7. References:\n",
    "\n",
    "\n",
    "1. https://en.wikipedia.org/wiki/MNIST_database\n",
    "2. Class lectures of MTH-548 course.\n",
    "3. Yigit, H. (2013, November). A weighting approach for KNN classifier. In 2013 international conference on electronics, computer and computation (ICECCO) (pp. 228-231). IEEE."
   ]
  },
  {
   "cell_type": "code",
   "execution_count": null,
   "id": "ca284fcd",
   "metadata": {},
   "outputs": [],
   "source": []
  },
  {
   "cell_type": "code",
   "execution_count": null,
   "id": "abdb4656",
   "metadata": {},
   "outputs": [],
   "source": []
  },
  {
   "cell_type": "code",
   "execution_count": null,
   "id": "2aa4df28",
   "metadata": {},
   "outputs": [],
   "source": []
  }
 ],
 "metadata": {
  "kernelspec": {
   "display_name": "Python 3 (ipykernel)",
   "language": "python",
   "name": "python3"
  },
  "language_info": {
   "codemirror_mode": {
    "name": "ipython",
    "version": 3
   },
   "file_extension": ".py",
   "mimetype": "text/x-python",
   "name": "python",
   "nbconvert_exporter": "python",
   "pygments_lexer": "ipython3",
   "version": "3.9.12"
  }
 },
 "nbformat": 4,
 "nbformat_minor": 5
}
